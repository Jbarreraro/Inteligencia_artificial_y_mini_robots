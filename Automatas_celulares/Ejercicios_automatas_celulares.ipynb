{
 "cells": [
  {
   "cell_type": "markdown",
   "metadata": {},
   "source": [
    "# Ejercicios\n",
    "\n",
    "1. Observe sus comportamientos en la casa, en la universidad y en el medio de transporte que utiliza. Encuentre, para cada uno de estos escenarios sus reglas básicas\n",
    "\n",
    "Para este caso se usara un diagrama de flujo para representar la toma de decisiones y la reglas que presenta la rutina de transporte de uno de los miembros del equipo.\n",
    "![Rutina de transporte](Automatas_celulares/Images/Automatas_celulares.drawio.png)"
   ]
  }
 ],
 "metadata": {
  "language_info": {
   "name": "python"
  }
 },
 "nbformat": 4,
 "nbformat_minor": 2
}
