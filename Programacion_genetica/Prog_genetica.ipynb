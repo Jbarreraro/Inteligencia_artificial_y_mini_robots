{
  "cells": [
    {
      "cell_type": "markdown",
      "id": "730aca7d",
      "metadata": {
        "id": "730aca7d"
      },
      "source": [
        "# Ejercicios"
      ]
    },
    {
      "cell_type": "markdown",
      "id": "65bec3e3",
      "metadata": {
        "id": "65bec3e3"
      },
      "source": [
        "1. \tDescargue MEPX, https://www.mepx.org/, estúdielo y corra uno de los ejemplos que trae."
      ]
    },
    {
      "cell_type": "markdown",
      "id": "3c702e87",
      "metadata": {
        "id": "3c702e87"
      },
      "source": [
        "Luego de descargar el software \"mepx\" y correr el ejemplo \"cancer1\" con 13 iteraciones de entrenamiento y validacion se obtuvieron resultados como los que se muestran a continuacion.\n",
        "![Resultados](URL_o_ruta_de_la_imagen \"título opcional\")\n",
        "\n",
        "A partir del cual se puede analizar lo siguiente que este modelo que MEPX ha hallado es sorprendentemente sencillo y, al mismo tiempo, muy eficaz: con solo cinco variables consigue casi un 98 % de aciertos en validación, incluso ligeramente superior al 97 % en entrenamiento, lo que indica que no se está “memorizando” los datos sino que realmente ha aprendido un patrón que se repite en nuevos casos. Las curvas de error para entrenamiento y validación bajan de manera muy paralela, sin separarse, lo que confirma que el modelo generaliza bien y no está sobreajustado. Permitiendo obtener predicciones bastante acertadas sobre las dos etiquetas que se tienen en el dataset, las que se suponen como la presencia o no del cancer en un paciente."
      ]
    },
    {
      "cell_type": "markdown",
      "id": "c68e45ce",
      "metadata": {
        "id": "c68e45ce"
      },
      "source": [
        "2. Suponga que tiene un robot que le entrega galletas al grupo de ingenieros de diseño de robots. Programe por PG el recorrido del robot, teniendo en cuenta que cada vez que un ingeniero recibe una galleta gana puntos. Los ingenieros están distribuidos en una sala cuadrada. Defina, conjunto de terminales, conjunto de funciones y función de aptitud."
      ]
    },
    {
      "cell_type": "code",
      "source": [
        "# robot_pg_notebook.py\n",
        "\n",
        "import random, math, copy\n",
        "import matplotlib.pyplot as plt\n",
        "\n",
        "# ————— Parámetros del problema —————\n",
        "N         = 5          # Nº de ingenieros\n",
        "ROOM_SIZE = 2       # Sala cuadrada [0,ROOM_SIZE]^2\n",
        "T_MAX     = 10         # Pasos de simulación\n",
        "GENERATIONS = 30       # <-- Cambia aquí el nº de generaciones\n",
        "\n",
        "# Posiciones fijas de los ingenieros\n",
        "engineers_pos = [(random.uniform(0, ROOM_SIZE),\n",
        "                  random.uniform(0, ROOM_SIZE)) for _ in range(N)]\n",
        "\n",
        "# Sensores globales que usan los terminales\n",
        "distances = [1] * N\n",
        "angles    = [1] * N\n",
        "\n",
        "# ————— Funciones protegidas —————\n",
        "def pdiv(x, y):      return x / y if y != 0 else 1.0\n",
        "def safe_sin(x):     return math.sin(x) if -1e6<x<1e6 else 0.0\n",
        "def safe_cos(x):     return math.cos(x) if -1e6<x<1e6 else 0.0\n",
        "\n",
        "# ————— Clases GP —————\n",
        "class Terminal:\n",
        "    def __init__(self, name, func): self.name, self.func = name, func\n",
        "    def eval(self): return self.func()\n",
        "    def __str__(self): return self.name\n",
        "\n",
        "class Primitive:\n",
        "    def __init__(self, name, arity, func): self.name, self.arity, self.func = name, arity, func\n",
        "    def __str__(self): return self.name\n",
        "\n",
        "class Node:\n",
        "    def __init__(self, content, children=None):\n",
        "        self.content, self.children = content, children or []\n",
        "    def eval(self):\n",
        "        if isinstance(self.content, Terminal):\n",
        "            return self.content.eval()\n",
        "        args = [ch.eval() for ch in self.children]\n",
        "        return self.content.func(*args)\n",
        "    def __str__(self):\n",
        "        if isinstance(self.content, Terminal):\n",
        "            return str(self.content)\n",
        "        return f\"{self.content.name}(\" + \", \".join(str(c) for c in self.children) + \")\"\n",
        "\n",
        "# ————— Primitivas y terminales —————\n",
        "primitives = [\n",
        "    Primitive(\"add\", 2, lambda x,y: x+y),\n",
        "    Primitive(\"sub\", 2, lambda x,y: x-y),\n",
        "    Primitive(\"mul\", 2, lambda x,y: x*y),\n",
        "    Primitive(\"pdiv\",2, pdiv),\n",
        "    Primitive(\"sin\", 1, safe_sin),\n",
        "    Primitive(\"cos\", 1, safe_cos),\n",
        "    Primitive(\"if>\", 3, lambda c,a,b: a if c>0 else b),\n",
        "]\n",
        "\n",
        "terminal_gens = []\n",
        "for i in range(N):\n",
        "    terminal_gens += [\n",
        "        (lambda i=i: Terminal(f\"d{i}\",     lambda i=i: distances[i])),\n",
        "        (lambda i=i: Terminal(f\"theta{i}\", lambda i=i: angles[i]))\n",
        "    ]\n",
        "terminal_gens.append(\n",
        "    lambda: Terminal(f\"const({random.uniform(-1,1):.2f})\",\n",
        "                     lambda val=random.uniform(-1,1): val)\n",
        ")\n",
        "\n",
        "def generate_tree(max_depth, grow_p=0.7):\n",
        "    if max_depth==0 or random.random()>grow_p:\n",
        "        return Node(random.choice(terminal_gens)())\n",
        "    prim = random.choice(primitives)\n",
        "    return Node(prim, [generate_tree(max_depth-1,grow_p) for _ in range(prim.arity)])\n",
        "\n",
        "def get_all_nodes(root):\n",
        "    out=[]\n",
        "    def rec(node,p,i):\n",
        "        out.append((node,p,i))\n",
        "        for idx,ch in enumerate(node.children):\n",
        "            rec(ch,node,idx)\n",
        "    rec(root,None,None)\n",
        "    return out\n",
        "\n",
        "def subtree_crossover(a,b):\n",
        "    ac, bc = copy.deepcopy(a), copy.deepcopy(b)\n",
        "    n1, n2 = get_all_nodes(ac), get_all_nodes(bc)\n",
        "    nA,pA,iA = random.choice(n1); nB,pB,iB = random.choice(n2)\n",
        "    if pA: pA.children[iA]=nB\n",
        "    else:   ac = nB\n",
        "    if pB: pB.children[iB]=nA\n",
        "    else:   bc = nA\n",
        "    return ac, bc\n",
        "\n",
        "def subtree_mutation(tree, max_d):\n",
        "    tc = copy.deepcopy(tree)\n",
        "    nodes = get_all_nodes(tc)\n",
        "    n,p,i = random.choice(nodes)\n",
        "    new_sub = generate_tree(max_d)\n",
        "    if p: p.children[i] = new_sub\n",
        "    else: tc = new_sub\n",
        "    return tc\n",
        "\n",
        "# ————— Función de aptitud con penalizaciones —————\n",
        "def evaluate(ind, λ_miss=2.0, λ_dist=0.05):\n",
        "    dx, dy = ind\n",
        "    x,y = ROOM_SIZE/2, ROOM_SIZE/2\n",
        "    delivered = [False]*N\n",
        "    score = 0\n",
        "    total_d = 0.0\n",
        "    for _ in range(T_MAX):\n",
        "        for i,(ex,ey) in enumerate(engineers_pos):\n",
        "            distances[i] = math.hypot(ex-x,ey-y)\n",
        "            angles[i]    = math.atan2(ey-y,ex-x)\n",
        "        mvx, mvy = dx.eval(), dy.eval()\n",
        "        total_d += math.hypot(mvx,mvy)\n",
        "        x,y = x+mvx, y+mvy\n",
        "        for i,(ex,ey) in enumerate(engineers_pos):\n",
        "            if not delivered[i] and abs(x-ex)<0.2 and abs(y-ey)<0.2:\n",
        "                delivered[i]=True; score+=1\n",
        "    misses = N-score\n",
        "    return score - λ_miss*misses - λ_dist*total_d\n",
        "\n",
        "def tournament_selection(pop,fits,k=3):\n",
        "    return max(random.sample(list(zip(pop,fits)),k), key=lambda t: t[1])[0]\n",
        "\n",
        "def genetic_programming(pop_size=30, gens=20, cx_p=0.5, mut_p=0.2, tour_k=3, max_d=4):\n",
        "    pop = [(generate_tree(max_d), generate_tree(max_d)) for _ in range(pop_size)]\n",
        "    fits = [evaluate(ind) for ind in pop]\n",
        "    for g in range(gens):\n",
        "        newpop=[]\n",
        "        while len(newpop)<pop_size:\n",
        "            p1 = tournament_selection(pop,fits,tour_k)\n",
        "            if random.random()<cx_p:\n",
        "                p2 = tournament_selection(pop,fits,tour_k)\n",
        "                c1x,c2x = subtree_crossover(p1[0],p2[0])\n",
        "                c1y,c2y = subtree_crossover(p1[1],p2[1])\n",
        "                offs = [(c1x,c1y),(c2x,c2y)]\n",
        "            else:\n",
        "                offs = [(copy.deepcopy(p1[0]),copy.deepcopy(p1[1]))]\n",
        "            for off in offs:\n",
        "                if len(newpop)>=pop_size: break\n",
        "                if random.random()<mut_p:\n",
        "                    off = (subtree_mutation(off[0],max_d),\n",
        "                           subtree_mutation(off[1],max_d))\n",
        "                newpop.append(off)\n",
        "        pop, fits = newpop, [evaluate(ind) for ind in newpop]\n",
        "        print(f\"Gen {g+1}/{gens} – best fitness = {max(fits):.2f}\")\n",
        "    idx = fits.index(max(fits))\n",
        "    return pop[idx], fits[idx]\n",
        "\n",
        "# ————— Ejecutar y visualizar —————\n",
        "best, best_fit = genetic_programming(gens=GENERATIONS)\n",
        "print(\"\\nMejor fitness:\", best_fit)\n",
        "\n",
        "# extraer árboles\n",
        "dx_tree, dy_tree = best\n",
        "\n",
        "# simular trayectoria\n",
        "x,y = ROOM_SIZE/2, ROOM_SIZE/2\n",
        "path_x, path_y = [x],[y]\n",
        "for _ in range(T_MAX):\n",
        "    for i,(ex,ey) in enumerate(engineers_pos):\n",
        "        distances[i] = math.hypot(ex-x,ey-y)\n",
        "        angles[i]    = math.atan2(ey-y,ex-x)\n",
        "    x += dx_tree.eval(); y += dy_tree.eval()\n",
        "    path_x.append(x); path_y.append(y)\n",
        "\n",
        "# plot\n",
        "plt.figure()\n",
        "plt.plot(path_x,path_y, marker='.', label='Robot')\n",
        "for i,(ex,ey) in enumerate(engineers_pos):\n",
        "    plt.scatter(ex,ey, s=80, marker='s')\n",
        "    plt.text(ex,ey+0.2,f\"I{i}\")\n",
        "plt.title(\"Recorrido del robot repartidor de galletas\")\n",
        "plt.xlabel(\"X\"); plt.ylabel(\"Y\")\n",
        "plt.axis(\"equal\"); plt.legend()\n",
        "plt.show()\n"
      ],
      "metadata": {
        "colab": {
          "base_uri": "https://localhost:8080/",
          "height": 1000
        },
        "id": "ZKGdxJAJEvMh",
        "outputId": "34dac4c7-a40a-4e5d-d9bf-88cbd68eb5e6"
      },
      "id": "ZKGdxJAJEvMh",
      "execution_count": 52,
      "outputs": [
        {
          "output_type": "stream",
          "name": "stdout",
          "text": [
            "Gen 1/30 – best fitness = 1.76\n",
            "Gen 2/30 – best fitness = 1.76\n",
            "Gen 3/30 – best fitness = 1.76\n",
            "Gen 4/30 – best fitness = -1.30\n",
            "Gen 5/30 – best fitness = -1.30\n",
            "Gen 6/30 – best fitness = -1.30\n",
            "Gen 7/30 – best fitness = -1.32\n",
            "Gen 8/30 – best fitness = -1.32\n",
            "Gen 9/30 – best fitness = -1.32\n",
            "Gen 10/30 – best fitness = -1.32\n",
            "Gen 11/30 – best fitness = -1.32\n",
            "Gen 12/30 – best fitness = 1.63\n",
            "Gen 13/30 – best fitness = 1.57\n",
            "Gen 14/30 – best fitness = 1.68\n",
            "Gen 15/30 – best fitness = 1.66\n",
            "Gen 16/30 – best fitness = 1.66\n",
            "Gen 17/30 – best fitness = 1.66\n",
            "Gen 18/30 – best fitness = 1.66\n",
            "Gen 19/30 – best fitness = 1.66\n",
            "Gen 20/30 – best fitness = 1.71\n",
            "Gen 21/30 – best fitness = 1.66\n",
            "Gen 22/30 – best fitness = 1.71\n",
            "Gen 23/30 – best fitness = 1.65\n",
            "Gen 24/30 – best fitness = 1.65\n",
            "Gen 25/30 – best fitness = 1.69\n",
            "Gen 26/30 – best fitness = 1.68\n",
            "Gen 27/30 – best fitness = 1.68\n",
            "Gen 28/30 – best fitness = 1.68\n",
            "Gen 29/30 – best fitness = 1.68\n",
            "Gen 30/30 – best fitness = 1.68\n",
            "\n",
            "Mejor fitness: 1.6770957571777174\n"
          ]
        },
        {
          "output_type": "display_data",
          "data": {
            "text/plain": [
              "<Figure size 640x480 with 1 Axes>"
            ],
            "image/png": "[encoded data removed]"
          },
          "metadata": {}
        }
      ]
    },
    {
      "cell_type": "markdown",
      "source": [
        "La trayectoria muestra un desplazamiento inicial innecesario hacia el sur, seguido de dos bloques eficientes de entregas (I1→I3 y luego I4→I0), pero aún así omite al ingeniero I2 y suma distancia extra; conviene por tanto reforzar la penalización por omitir destinatarios y ajustar el peso de la distancia para forzar rutas más directas y asegurar la cobertura completa."
      ],
      "metadata": {
        "id": "zNZe0RO5Fsxy"
      },
      "id": "zNZe0RO5Fsxy"
    },
    {
      "cell_type": "code",
      "source": [],
      "metadata": {
        "id": "3uThYgwnFuVh"
      },
      "id": "3uThYgwnFuVh",
      "execution_count": null,
      "outputs": []
    }
  ],
  "metadata": {
    "kernelspec": {
      "display_name": "Python 3",
      "language": "python",
      "name": "python3"
    },
    "language_info": {
      "codemirror_mode": {
        "name": "ipython",
        "version": 3
      },
      "file_extension": ".py",
      "mimetype": "text/x-python",
      "name": "python",
      "nbconvert_exporter": "python",
      "pygments_lexer": "ipython3",
      "version": "3.10.0"
    },
    "colab": {
      "provenance": []
    }
  },
  "nbformat": 4,
  "nbformat_minor": 5
}