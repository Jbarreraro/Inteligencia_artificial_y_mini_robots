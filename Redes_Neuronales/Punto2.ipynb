{
  "nbformat": 4,
  "nbformat_minor": 0,
  "metadata": {
    "colab": {
      "provenance": []
    },
    "kernelspec": {
      "name": "python3",
      "display_name": "Python 3"
    },
    "language_info": {
      "name": "python"
    }
  },
  "cells": [
    {
      "cell_type": "markdown",
      "source": [
        "# Resolución de ejercicios: Introducción a las redes neuronales artificiales\n",
        "\n",
        "## Autores: Eduardo Cuadros, Juan Barrera\n",
        "---\n",
        "\n",
        "En el siguiente notebook se resolverán los ejercicios planteados en el capítulo de redes neuronales artificiales.\n",
        "\n",
        "## Punto 2\n",
        "Con base en la librería tensorflow, descargue el dataset *fashion MNIST*. Haga una clasificación de prendas de vestir.\n",
        "\n",
        "Primero se importan las librerías necesarias para esta clasificación:\n",
        "- Tensorflow y keras para el manejo de los modelos de IA y creación de capas de la red.\n",
        "- Matplotlib.pyplot para la visualización de los resultados en gráficas.\n",
        "- random para generar números aleatorios."
      ],
      "metadata": {
        "id": "TDlVp1sEF_ND"
      }
    },
    {
      "cell_type": "code",
      "execution_count": 16,
      "metadata": {
        "id": "xyujkERoF7_Z"
      },
      "outputs": [],
      "source": [
        "import tensorflow as tf\n",
        "from tensorflow.keras import layers, models\n",
        "import matplotlib.pyplot as plt\n",
        "import random\n",
        "import numpy as np"
      ]
    },
    {
      "cell_type": "markdown",
      "source": [
        "Luego cargamos el dataset *fashion MNIST*, el cual esta disponible en la librería de keras. Este dataset lo dividimos en datos de entrenamiento y validación:\n",
        "- *train_X* son los datos de entrenamiento de entrada\n",
        "- *train_y* son las etiquetas de los datos de entrenamiento.\n",
        "- *test_X* son los datos de validación que usaremos para verificar el rendimiento de la red.\n",
        "- *test_y* son los valores reales de estos datos de validación. Con estos compararemos las predicciones.\n",
        "\n",
        "También se visualiza una foto del dataset."
      ],
      "metadata": {
        "id": "y8IS8FL3G1D7"
      }
    },
    {
      "cell_type": "code",
      "source": [
        "(train_X, train_y), (test_X, test_y) = tf.keras.datasets.fashion_mnist.load_data()\n",
        "plt.imshow(train_X[0])\n",
        "print(f\"Lás imágenes tienen dimensión {train_X[0].shape} pixeles\")"
      ],
      "metadata": {
        "colab": {
          "base_uri": "https://localhost:8080/",
          "height": 447
        },
        "id": "2D2cwRtwHa54",
        "outputId": "a95f72ea-aca4-49e9-b674-e77ba2ef0fc0"
      },
      "execution_count": 7,
      "outputs": [
        {
          "output_type": "stream",
          "name": "stdout",
          "text": [
            "Lás imágenes tienen dimensión (28, 28) pixeles\n"
          ]
        },
        {
          "output_type": "display_data",
          "data": {
            "text/plain": [
              "<Figure size 640x480 with 1 Axes>"
            ],
            "image/png": "[encoded data removed]"
          },
          "metadata": {}
        }
      ]
    },
    {
      "cell_type": "markdown",
      "source": [
        "Como se puede observar, esta imágen es a color. Por lo tanto, es necesario convertir estas imágenes a escala de grises para poder pasarlas por la red. Esto debido a que es más complejo computacionalmente para la red trabajar con las imágenes a color."
      ],
      "metadata": {
        "id": "rKqnNuHrHpzL"
      }
    },
    {
      "cell_type": "code",
      "source": [
        "train_X = train_X / 255.0\n",
        "test_X = test_X / 255.0"
      ],
      "metadata": {
        "id": "xv1K-hqqIDNl"
      },
      "execution_count": 4,
      "outputs": []
    },
    {
      "cell_type": "markdown",
      "source": [
        "Lo siguiente que haremos es cdrear el modelo usando Keras, la cual es una librería que facilita la construcción de las capas de la red neuronal de tensorflow.\n",
        "\n",
        "Para esta red crearemos 3 capas. La primera capa es para aplanar los datos de entrada. Como sabemos, la imágen es un array de dimensión 2 con 28 datos en cada dimensión. La primera capa aplana estos datos a un array de una dimensión con 28x28 datos de entrada. Es decir, con 784 datos. Esto debido a que no trabajaremos con una red neuronal convolucional, sino con una red densa.\n",
        "\n",
        "La siguiente es una capa densa de 128 neuronas. Cada una de estas neuronas está conectada a todas las neuronas de la capa anterior, por esta razón se llama capa densa. Además tenemos que la función de activación usada es la ReLU. Esta función introduce no linealidad, lo cual es fundamental para que la red pueda aprender patrones complejos.\n",
        "\n",
        "La siguiente es una capa *Dropout*, la cual tiene como objetivo reducir el sobreajuste durante el entrenamiento, es decir, asegurarnos que la red aprende y no memoriza. Este dropout desactiva aleatoriamente el 20% de las neuronas con cada iteración.\n",
        "\n",
        "Finalmente tenemos la capa de salida, la cual es la que nos dice qué clasificación tiene la prenda de vestir. La función de activación usada nos muestra la probabilidad convierte los datos de salida en probabilidades. Por lo que cada neurona de salida nos dirá la probabilidad de que la imágen sea de esa categoría."
      ],
      "metadata": {
        "id": "dsEXwIf2IM2x"
      }
    },
    {
      "cell_type": "code",
      "source": [
        "model = models.Sequential([\n",
        "    layers.Flatten(input_shape=(28, 28)),\n",
        "    layers.Dense(128, activation='relu'),\n",
        "    layers.Dropout(0.2),\n",
        "    layers.Dense(10, activation='softmax')\n",
        "])"
      ],
      "metadata": {
        "colab": {
          "base_uri": "https://localhost:8080/"
        },
        "id": "tdviEps7IXba",
        "outputId": "355080ea-3d83-421a-bacf-1e2de2feadcf"
      },
      "execution_count": 8,
      "outputs": [
        {
          "output_type": "stream",
          "name": "stderr",
          "text": [
            "/usr/local/lib/python3.11/dist-packages/keras/src/layers/reshaping/flatten.py:37: UserWarning: Do not pass an `input_shape`/`input_dim` argument to a layer. When using Sequential models, prefer using an `Input(shape)` object as the first layer in the model instead.\n",
            "  super().__init__(**kwargs)\n"
          ]
        }
      ]
    },
    {
      "cell_type": "markdown",
      "source": [
        "Una vez creado el modelo se debe compilar, añadiendo funciones de optimización, la función de perdida que queremos usar para el entrenamiento y el backpropagation, y la metrica que usaremos para verificar el rendimiento. Se usará *cross entropy* como función de coste y *accuracy* como metrica."
      ],
      "metadata": {
        "id": "8qjtCPdtKX4W"
      }
    },
    {
      "cell_type": "code",
      "source": [
        "model.compile(optimizer='adam',\n",
        "              loss='sparse_categorical_crossentropy',\n",
        "              metrics=['accuracy'])"
      ],
      "metadata": {
        "id": "S-P8WG2AKy_F"
      },
      "execution_count": 9,
      "outputs": []
    },
    {
      "cell_type": "markdown",
      "source": [
        "Lo siguiente que se hace es entrenar el modelo con las imagenes y etiquetas de entrenamiento. Para este caso, entrenaremos durante 10 epocas."
      ],
      "metadata": {
        "id": "2xf-OVGuK-Qj"
      }
    },
    {
      "cell_type": "code",
      "source": [
        "model.fit(train_X, train_y, epochs=10)"
      ],
      "metadata": {
        "colab": {
          "base_uri": "https://localhost:8080/"
        },
        "id": "7dkHuNmoK7vr",
        "outputId": "58ae0a44-98b8-44db-9113-59b9230155ab"
      },
      "execution_count": 11,
      "outputs": [
        {
          "output_type": "stream",
          "name": "stdout",
          "text": [
            "Epoch 1/10\n",
            "\u001b[1m1875/1875\u001b[0m \u001b[32m━━━━━━━━━━━━━━━━━━━━\u001b[0m\u001b[37m\u001b[0m \u001b[1m9s\u001b[0m 5ms/step - accuracy: 0.6899 - loss: 0.8097\n",
            "Epoch 2/10\n",
            "\u001b[1m1875/1875\u001b[0m \u001b[32m━━━━━━━━━━━━━━━━━━━━\u001b[0m\u001b[37m\u001b[0m \u001b[1m10s\u001b[0m 5ms/step - accuracy: 0.6992 - loss: 0.7974\n",
            "Epoch 3/10\n",
            "\u001b[1m1875/1875\u001b[0m \u001b[32m━━━━━━━━━━━━━━━━━━━━\u001b[0m\u001b[37m\u001b[0m \u001b[1m8s\u001b[0m 4ms/step - accuracy: 0.7045 - loss: 0.7868\n",
            "Epoch 4/10\n",
            "\u001b[1m1875/1875\u001b[0m \u001b[32m━━━━━━━━━━━━━━━━━━━━\u001b[0m\u001b[37m\u001b[0m \u001b[1m11s\u001b[0m 5ms/step - accuracy: 0.7062 - loss: 0.7667\n",
            "Epoch 5/10\n",
            "\u001b[1m1875/1875\u001b[0m \u001b[32m━━━━━━━━━━━━━━━━━━━━\u001b[0m\u001b[37m\u001b[0m \u001b[1m10s\u001b[0m 5ms/step - accuracy: 0.7219 - loss: 0.7529\n",
            "Epoch 6/10\n",
            "\u001b[1m1875/1875\u001b[0m \u001b[32m━━━━━━━━━━━━━━━━━━━━\u001b[0m\u001b[37m\u001b[0m \u001b[1m10s\u001b[0m 5ms/step - accuracy: 0.7296 - loss: 0.7309\n",
            "Epoch 7/10\n",
            "\u001b[1m1875/1875\u001b[0m \u001b[32m━━━━━━━━━━━━━━━━━━━━\u001b[0m\u001b[37m\u001b[0m \u001b[1m8s\u001b[0m 4ms/step - accuracy: 0.7318 - loss: 0.7327\n",
            "Epoch 8/10\n",
            "\u001b[1m1875/1875\u001b[0m \u001b[32m━━━━━━━━━━━━━━━━━━━━\u001b[0m\u001b[37m\u001b[0m \u001b[1m10s\u001b[0m 4ms/step - accuracy: 0.7377 - loss: 0.7233\n",
            "Epoch 9/10\n",
            "\u001b[1m1875/1875\u001b[0m \u001b[32m━━━━━━━━━━━━━━━━━━━━\u001b[0m\u001b[37m\u001b[0m \u001b[1m9s\u001b[0m 5ms/step - accuracy: 0.7386 - loss: 0.7177\n",
            "Epoch 10/10\n",
            "\u001b[1m1875/1875\u001b[0m \u001b[32m━━━━━━━━━━━━━━━━━━━━\u001b[0m\u001b[37m\u001b[0m \u001b[1m10s\u001b[0m 4ms/step - accuracy: 0.7385 - loss: 0.7324\n"
          ]
        },
        {
          "output_type": "execute_result",
          "data": {
            "text/plain": [
              "<keras.src.callbacks.history.History at 0x7dc5827bbb50>"
            ]
          },
          "metadata": {},
          "execution_count": 11
        }
      ]
    },
    {
      "cell_type": "markdown",
      "source": [
        "Finalmente lo que hacemos es evaluar el modelo. En este caso tenemos una exactitud de 78.81%."
      ],
      "metadata": {
        "id": "iI0Zl14ULTqI"
      }
    },
    {
      "cell_type": "code",
      "source": [
        "loss, acc = model.evaluate(test_X, test_y, verbose=2)\n",
        "print(f\"Precisión del modelo en el conjunto de prueba: {acc}\")"
      ],
      "metadata": {
        "colab": {
          "base_uri": "https://localhost:8080/"
        },
        "id": "P5Tk6T39LXRg",
        "outputId": "c192a20b-ef0c-40b1-e077-1cd124794988"
      },
      "execution_count": 13,
      "outputs": [
        {
          "output_type": "stream",
          "name": "stdout",
          "text": [
            "313/313 - 1s - 3ms/step - accuracy: 0.7881 - loss: 0.6318\n",
            "Precisión del modelo en el conjunto de prueba: 0.788100004196167\n"
          ]
        }
      ]
    },
    {
      "cell_type": "markdown",
      "source": [
        "Ahora harémos una predición de una imágen aleatoria. Para esto primero escogemos aleatoriamente un índice del conjunto de prueba y seleccionamos la imágen y etiqueta correspondientes a este índice. Luego hacemos la predicción usando el modelo entrenado. Podemos ver que la imágen es de un bolso, cuya etiqueta es la 8 y la etiqueta predecida también es la 8."
      ],
      "metadata": {
        "id": "__GqKC4kL-gc"
      }
    },
    {
      "cell_type": "code",
      "source": [
        "random_index = random.randint(0, len(test_X) - 1)\n",
        "X = test_X[random_index]\n",
        "y_real = test_y[random_index]\n",
        "\n",
        "pred_y = model.predict(np.expand_dims(X, axis=0))\n",
        "pred_label = np.argmax(pred_y)\n",
        "\n",
        "plt.imshow(X, cmap=plt.cm.binary)\n",
        "plt.title(f\"Real: {y_real}, Pred: {pred_label}\")\n",
        "plt.axis('off')\n",
        "plt.show()"
      ],
      "metadata": {
        "colab": {
          "base_uri": "https://localhost:8080/",
          "height": 445
        },
        "id": "qKerxME6MBLe",
        "outputId": "6387cf2f-c15e-447b-fe11-0c9f2cb6c337"
      },
      "execution_count": 22,
      "outputs": [
        {
          "output_type": "stream",
          "name": "stdout",
          "text": [
            "\u001b[1m1/1\u001b[0m \u001b[32m━━━━━━━━━━━━━━━━━━━━\u001b[0m\u001b[37m\u001b[0m \u001b[1m0s\u001b[0m 196ms/step\n"
          ]
        },
        {
          "output_type": "display_data",
          "data": {
            "text/plain": [
              "<Figure size 640x480 with 1 Axes>"
            ],
            "image/png": "[encoded data removed]"
          },
          "metadata": {}
        }
      ]
    }
  ]
}